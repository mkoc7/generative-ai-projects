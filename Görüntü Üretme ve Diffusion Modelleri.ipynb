# Diffusers kütüphanesini kullanarak Stable Diffusion ile görüntü üretme
!pip install diffusers transformers accelerate

import torch
import gc
from diffusers import StableDiffusionPipeline
from PIL import Image
import matplotlib.pyplot as plt

# Model yükleme - optimize edilmiş ayarlar
model_id = "runwayml/stable-diffusion-v1-5"
pipe = StableDiffusionPipeline.from_pretrained(
    model_id,
    torch_dtype=torch.float16 if torch.cuda.is_available() else torch.float32,
    # Düşük bellek modu için
    low_cpu_mem_usage=True
)

if torch.cuda.is_available():
    pipe = pipe.to("cuda")
    # Bellek optimizasyonu için
    pipe.enable_attention_slicing()

# Görüntü üretme fonksiyonu - optimize edilmiş
def generate_image(prompt, negative_prompt="", height=384, width=384, steps=15, guidance_scale=7.0, seed=None):
    """
    Optimize edilmiş görüntü üretme fonksiyonu
    - Daha az adım sayısı
    - Daha düşük çözünürlük
    - Seed kontrolü eklendi
    """
    # Seed ayarlama (tekrarlanabilir sonuçlar için)
    if seed is not None:
        torch.manual_seed(seed)
        
    # Görüntü üretme
    with torch.autocast("cuda") if torch.cuda.is_available() else torch.no_grad():
        image = pipe(
            prompt=prompt,
            negative_prompt=negative_prompt,
            height=height,
            width=width,
            num_inference_steps=steps,
            guidance_scale=guidance_scale
        ).images[0]
    
    # Belleği temizleme
    if torch.cuda.is_available():
        torch.cuda.empty_cache()
        gc.collect()
        
    return image

# Görüntü gösterme fonksiyonu
def show_image(image, title=None):
    plt.figure(figsize=(8, 8))
    plt.imshow(image)
    if title:
        plt.title(title)
    plt.axis('off')
    plt.show()

# Test edilecek promptlar
prompts = [
    "Gün batımında bir deniz manzarası, gerçekçi fotoğraf, yüksek kalite",
    "Futuristik bir şehir manzarası, neon ışıklar, dijital sanat",
    "Akıllı robotlar ve insanlar bir arada çalışıyor, konsept sanatı, detaylı"
]

# Her prompt için görüntü üretme
for i, prompt in enumerate(prompts):
    print(f"Görüntü {i+1}/3 üretiliyor: {prompt}")
    try:
        # Her görüntü için farklı seed kullan
        image = generate_image(prompt, seed=i+42) 
        show_image(image, f"Prompt: {prompt}")
        print(f"Görüntü {i+1} başarıyla üretildi!\n")
    except Exception as e:
        print(f"Hata: {e}")
        continue
